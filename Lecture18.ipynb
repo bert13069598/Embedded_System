{
  "nbformat": 4,
  "nbformat_minor": 0,
  "metadata": {
    "colab": {
      "provenance": [],
      "authorship_tag": "ABX9TyPKFoFeAvje/qpUeLOQYiew",
      "include_colab_link": true
    },
    "kernelspec": {
      "name": "python3",
      "display_name": "Python 3"
    },
    "language_info": {
      "name": "python"
    }
  },
  "cells": [
    {
      "cell_type": "markdown",
      "metadata": {
        "id": "view-in-github",
        "colab_type": "text"
      },
      "source": [
        "<a href=\"https://colab.research.google.com/github/bert13069598/Embedded_System/blob/master/Lecture18.ipynb\" target=\"_parent\"><img src=\"https://colab.research.google.com/assets/colab-badge.svg\" alt=\"Open In Colab\"/></a>"
      ]
    },
    {
      "cell_type": "code",
      "execution_count": null,
      "metadata": {
        "colab": {
          "base_uri": "https://localhost:8080/"
        },
        "id": "9lNwkN70yxo9",
        "outputId": "d2bc9195-3660-495a-a4e3-81bd0ef4a174"
      },
      "outputs": [
        {
          "output_type": "stream",
          "name": "stdout",
          "text": [
            "tensor([[1, 2],\n",
            "        [3, 4]])\n"
          ]
        }
      ],
      "source": [
        "import torch\n",
        "import numpy as np\n",
        "\n",
        "data = [[1,2],[3,4]]\n",
        "x_data=torch.tensor(data)\n",
        "print(x_data)"
      ]
    },
    {
      "cell_type": "markdown",
      "source": [
        "## Tensor : volumetric data structure"
      ],
      "metadata": {
        "id": "uFM51fV75xZW"
      }
    },
    {
      "cell_type": "code",
      "source": [
        "shape=(2,3,)\n",
        "rand_tensor = torch.rand(shape)\n",
        "ones_tensor = torch.ones(shape)\n",
        "zeros_tensor = torch.zeros(shape)\n",
        "\n",
        "print(\"Random Tensor: \\n\", rand_tensor)\n",
        "print(\"Ones Tensor: \\n\", ones_tensor)\n",
        "print(\"Zeros Tensor: \\n\", zeros_tensor)"
      ],
      "metadata": {
        "colab": {
          "base_uri": "https://localhost:8080/"
        },
        "id": "pTz5g5CizG7E",
        "outputId": "a6c1ce18-781b-47f1-95fe-27dd9fd2b853"
      },
      "execution_count": null,
      "outputs": [
        {
          "output_type": "stream",
          "name": "stdout",
          "text": [
            "Random Tensor: \n",
            " tensor([[0.4221, 0.4177, 0.1636],\n",
            "        [0.5931, 0.2122, 0.2822]])\n",
            "Ones Tensor: \n",
            " tensor([[1., 1., 1.],\n",
            "        [1., 1., 1.]])\n",
            "Zeros Tensor: \n",
            " tensor([[0., 0., 0.],\n",
            "        [0., 0., 0.]])\n"
          ]
        }
      ]
    },
    {
      "cell_type": "markdown",
      "source": [
        "## Basic operations : transposing, slicing, indexing, etc."
      ],
      "metadata": {
        "id": "6P7YNALN57x-"
      }
    },
    {
      "cell_type": "code",
      "source": [
        "data = [[1,2,3,4],[0,1,0,1],[5,6,7,8],[3,3,9,9]]\n",
        "tensor=torch.tensor(data)\n",
        "\n",
        "# Move tensor to GPU\n",
        "if torch.cuda.is_available():\n",
        "  tensor = tensor.to('cuda')\n",
        "\n",
        "print(tensor)\n",
        "print('First row:',tensor[0])\n",
        "print('First column:',tensor[:,0])\n",
        "print('Last column:',tensor[...,-1])\n",
        "tensor[:,1] = 0\n",
        "print(tensor)"
      ],
      "metadata": {
        "colab": {
          "base_uri": "https://localhost:8080/"
        },
        "id": "sUVjd0sdzoNY",
        "outputId": "caf22be1-64ec-48cf-aa5c-02f4a3ee2f70"
      },
      "execution_count": null,
      "outputs": [
        {
          "output_type": "stream",
          "name": "stdout",
          "text": [
            "tensor([[1, 2, 3, 4],\n",
            "        [0, 1, 0, 1],\n",
            "        [5, 6, 7, 8],\n",
            "        [3, 3, 9, 9]])\n",
            "First row: tensor([1, 2, 3, 4])\n",
            "First column: tensor([1, 0, 5, 3])\n",
            "Last column: tensor([4, 1, 8, 9])\n",
            "tensor([[1, 0, 3, 4],\n",
            "        [0, 0, 0, 1],\n",
            "        [5, 0, 7, 8],\n",
            "        [3, 0, 9, 9]])\n"
          ]
        }
      ]
    },
    {
      "cell_type": "code",
      "source": [
        "x=torch.tensor([[1,2,3],[4,5,6]])\n",
        "x_trans = torch.transpose(x,0,1) # shape 0번째와 1번째 맞바꿈\n",
        "print(x.shape)\n",
        "print(x)\n",
        "print(x_trans.shape)\n",
        "print(x_trans)"
      ],
      "metadata": {
        "colab": {
          "base_uri": "https://localhost:8080/"
        },
        "id": "JTD8xYle0n1J",
        "outputId": "583b82b0-b90a-4abd-e1cd-2229272e243b"
      },
      "execution_count": null,
      "outputs": [
        {
          "output_type": "stream",
          "name": "stdout",
          "text": [
            "torch.Size([2, 3])\n",
            "tensor([[1, 2, 3],\n",
            "        [4, 5, 6]])\n",
            "torch.Size([3, 2])\n",
            "tensor([[1, 4],\n",
            "        [2, 5],\n",
            "        [3, 6]])\n"
          ]
        }
      ]
    },
    {
      "cell_type": "code",
      "source": [
        "x=torch.tensor([[[[1,2,3],\n",
        "                 [4,5,6],\n",
        "                 [7,8,9]]],\n",
        "               [[[-1,-2,-3],\n",
        "                 [-4,-5,-6],\n",
        "                 [-7,-8,-9]]]])\n",
        "print(x.shape)\n",
        "print(x)\n",
        "y=torch.transpose(x,1,2)\n",
        "print(\"\\n\")\n",
        "print(y.size())\n",
        "print(y)"
      ],
      "metadata": {
        "colab": {
          "base_uri": "https://localhost:8080/"
        },
        "id": "4I5HRHWI7wGi",
        "outputId": "b8bb081b-d7b9-4a6c-dae2-b76b88bc7bf2"
      },
      "execution_count": null,
      "outputs": [
        {
          "output_type": "stream",
          "name": "stdout",
          "text": [
            "torch.Size([2, 1, 3, 3])\n",
            "tensor([[[[ 1,  2,  3],\n",
            "          [ 4,  5,  6],\n",
            "          [ 7,  8,  9]]],\n",
            "\n",
            "\n",
            "        [[[-1, -2, -3],\n",
            "          [-4, -5, -6],\n",
            "          [-7, -8, -9]]]])\n",
            "\n",
            "\n",
            "torch.Size([2, 3, 1, 3])\n",
            "tensor([[[[ 1,  2,  3]],\n",
            "\n",
            "         [[ 4,  5,  6]],\n",
            "\n",
            "         [[ 7,  8,  9]]],\n",
            "\n",
            "\n",
            "        [[[-1, -2, -3]],\n",
            "\n",
            "         [[-4, -5, -6]],\n",
            "\n",
            "         [[-7, -8, -9]]]])\n"
          ]
        }
      ]
    },
    {
      "cell_type": "markdown",
      "source": [
        "## Tensor reshape : .view"
      ],
      "metadata": {
        "id": "wO3yOnkl-WB7"
      }
    },
    {
      "cell_type": "code",
      "source": [
        "x = torch.tensor([[1,2,3,4],\n",
        "                  [5,6,7,8],\n",
        "                  [9,10,11,12],\n",
        "                  [13,14,15,16]])\n",
        "print(x)\n",
        "y=x.view(16)\n",
        "print(y)\n",
        "z=x.view(2,-1)\n",
        "print(z)"
      ],
      "metadata": {
        "colab": {
          "base_uri": "https://localhost:8080/"
        },
        "id": "V8LrA7qg886-",
        "outputId": "890dc6a4-bfd4-4350-c9e9-f8c703dc85bf"
      },
      "execution_count": null,
      "outputs": [
        {
          "output_type": "stream",
          "name": "stdout",
          "text": [
            "tensor([[ 1,  2,  3,  4],\n",
            "        [ 5,  6,  7,  8],\n",
            "        [ 9, 10, 11, 12],\n",
            "        [13, 14, 15, 16]])\n",
            "tensor([ 1,  2,  3,  4,  5,  6,  7,  8,  9, 10, 11, 12, 13, 14, 15, 16])\n",
            "tensor([[ 1,  2,  3,  4,  5,  6,  7,  8],\n",
            "        [ 9, 10, 11, 12, 13, 14, 15, 16]])\n"
          ]
        }
      ]
    },
    {
      "cell_type": "code",
      "source": [
        "x=torch.tensor([[[1,2],[3,4]],\n",
        "                [[5,6],[7,8]],\n",
        "                [[9,10],[11,12]]])\n",
        "print(x.shape)\n",
        "print(x)\n",
        "\n",
        "y=x.view(-1,3)\n",
        "print(y.size())\n",
        "print(y)\n",
        "\n",
        "z=x.view(-1,2,3)\n",
        "print(z.size())\n",
        "print(z)"
      ],
      "metadata": {
        "colab": {
          "base_uri": "https://localhost:8080/"
        },
        "id": "8vKef9Op-qTC",
        "outputId": "43b9a3f9-1894-409e-a944-8adad93e65c2"
      },
      "execution_count": null,
      "outputs": [
        {
          "output_type": "stream",
          "name": "stdout",
          "text": [
            "torch.Size([3, 2, 2])\n",
            "tensor([[[ 1,  2],\n",
            "         [ 3,  4]],\n",
            "\n",
            "        [[ 5,  6],\n",
            "         [ 7,  8]],\n",
            "\n",
            "        [[ 9, 10],\n",
            "         [11, 12]]])\n",
            "torch.Size([4, 3])\n",
            "tensor([[ 1,  2,  3],\n",
            "        [ 4,  5,  6],\n",
            "        [ 7,  8,  9],\n",
            "        [10, 11, 12]])\n",
            "torch.Size([2, 2, 3])\n",
            "tensor([[[ 1,  2,  3],\n",
            "         [ 4,  5,  6]],\n",
            "\n",
            "        [[ 7,  8,  9],\n",
            "         [10, 11, 12]]])\n"
          ]
        }
      ]
    },
    {
      "cell_type": "markdown",
      "source": [
        "## Tensor reshape : squeeze and unsqueeze"
      ],
      "metadata": {
        "id": "J9JUW2QmCJR9"
      }
    },
    {
      "cell_type": "code",
      "source": [
        "x=torch.tensor([[1],[2],[3]])\n",
        "print(x.size())\n",
        "y=x.squeeze()\n",
        "print(y.size())\n",
        "\n",
        "x=torch.tensor([1,2,3])\n",
        "y=x.unsqueeze(0)\n",
        "z=x.unsqueeze(-1)\n",
        "print(y.size())\n",
        "print(z.size())"
      ],
      "metadata": {
        "colab": {
          "base_uri": "https://localhost:8080/"
        },
        "id": "TymBOnGeCIrM",
        "outputId": "05ae47e4-99b9-4388-bae7-d9ddf4cf176a"
      },
      "execution_count": null,
      "outputs": [
        {
          "output_type": "stream",
          "name": "stdout",
          "text": [
            "torch.Size([3, 1])\n",
            "torch.Size([3])\n",
            "torch.Size([1, 3])\n",
            "torch.Size([3, 1])\n"
          ]
        }
      ]
    },
    {
      "cell_type": "markdown",
      "source": [
        "## Tensor concatenation"
      ],
      "metadata": {
        "id": "FiQcJrHmDdxr"
      }
    },
    {
      "cell_type": "code",
      "source": [
        "data=[[1,2,3,4],[0,1,0,1],[5,6,7,8],[3,3,9,9]]\n",
        "tensor = torch.tensor(data)\n",
        "print(tensor)\n",
        "\n",
        "tensor_concat = torch.cat([tensor,tensor],dim=1)\n",
        "print(tensor_concat)\n",
        "tensor_concat = torch.cat([tensor,tensor],dim=0)\n",
        "print(tensor_concat)"
      ],
      "metadata": {
        "colab": {
          "base_uri": "https://localhost:8080/"
        },
        "id": "PDvrG5ujA_Zh",
        "outputId": "8d5fe60e-013c-4b59-fcc1-0bb317a3cb69"
      },
      "execution_count": null,
      "outputs": [
        {
          "output_type": "stream",
          "name": "stdout",
          "text": [
            "tensor([[1, 2, 3, 4],\n",
            "        [0, 1, 0, 1],\n",
            "        [5, 6, 7, 8],\n",
            "        [3, 3, 9, 9]])\n",
            "tensor([[1, 2, 3, 4, 1, 2, 3, 4],\n",
            "        [0, 1, 0, 1, 0, 1, 0, 1],\n",
            "        [5, 6, 7, 8, 5, 6, 7, 8],\n",
            "        [3, 3, 9, 9, 3, 3, 9, 9]])\n",
            "tensor([[1, 2, 3, 4],\n",
            "        [0, 1, 0, 1],\n",
            "        [5, 6, 7, 8],\n",
            "        [3, 3, 9, 9],\n",
            "        [1, 2, 3, 4],\n",
            "        [0, 1, 0, 1],\n",
            "        [5, 6, 7, 8],\n",
            "        [3, 3, 9, 9]])\n"
          ]
        }
      ]
    },
    {
      "cell_type": "markdown",
      "source": [
        "## Arithmetic operations : addition, subtraction, multiplication, etc."
      ],
      "metadata": {
        "id": "3rIJ-DsAG9Eq"
      }
    },
    {
      "cell_type": "code",
      "source": [
        "x=torch.tensor([[1,1,1],[2,2,2]])\n",
        "x_mul=torch.mul(x,100)\n",
        "print(x)\n",
        "print(x_mul)"
      ],
      "metadata": {
        "colab": {
          "base_uri": "https://localhost:8080/"
        },
        "id": "bB0j29x7G3JJ",
        "outputId": "4e38f22c-431c-4aed-803f-f7d732fd079d"
      },
      "execution_count": null,
      "outputs": [
        {
          "output_type": "stream",
          "name": "stdout",
          "text": [
            "tensor([[1, 1, 1],\n",
            "        [2, 2, 2]])\n",
            "tensor([[100, 100, 100],\n",
            "        [200, 200, 200]])\n"
          ]
        }
      ]
    },
    {
      "cell_type": "code",
      "source": [
        "x=torch.tensor([[2,2,2],[4,4,4]])\n",
        "y=3*torch.ones(x.size())\n",
        "z=x*y\n",
        "print(x)\n",
        "print(y)\n",
        "print(z)"
      ],
      "metadata": {
        "colab": {
          "base_uri": "https://localhost:8080/"
        },
        "id": "aGtjg418HT2q",
        "outputId": "f274d668-07ca-4e5f-8d70-3f6800371b42"
      },
      "execution_count": null,
      "outputs": [
        {
          "output_type": "stream",
          "name": "stdout",
          "text": [
            "tensor([[2, 2, 2],\n",
            "        [4, 4, 4]])\n",
            "tensor([[3., 3., 3.],\n",
            "        [3., 3., 3.]])\n",
            "tensor([[ 6.,  6.,  6.],\n",
            "        [12., 12., 12.]])\n"
          ]
        }
      ]
    }
  ]
}